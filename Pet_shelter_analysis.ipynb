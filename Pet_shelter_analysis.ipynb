{
 "cells": [
  {
   "cell_type": "code",
   "execution_count": 1,
   "id": "230e30bb",
   "metadata": {},
   "outputs": [],
   "source": [
    "import numpy as np\n",
    "import pandas as pd\n",
    "\n",
    "import matplotlib.pyplot as plt\n",
    "aac_intakes = pd.read_csv(\"aac_intakes.csv\")\n",
    "aac_intakes_outcomes = pd.read_csv(\"aac_intakes_outcomes.csv\")\n",
    "aac_outcomes = pd.read_csv(\"aac_outcomes.csv\")"
   ]
  },
  {
   "cell_type": "markdown",
   "id": "a3f9a383",
   "metadata": {},
   "source": [
    "Personal note:: Imported all the necessary packages and csv files"
   ]
  },
  {
   "cell_type": "code",
   "execution_count": 2,
   "id": "59751b3e",
   "metadata": {},
   "outputs": [],
   "source": [
    "aac_intakes[\"datetime\"] = pd.to_datetime(aac_intakes[\"datetime\"])\n",
    "aac_intakes[\"datetime2\"] = pd.to_datetime(aac_intakes[\"datetime2\"])"
   ]
  },
  {
   "cell_type": "markdown",
   "id": "d8e03847",
   "metadata": {},
   "source": [
    "Personal note:: Converted the dates into datetime format"
   ]
  },
  {
   "cell_type": "markdown",
   "id": "0ae23e0c",
   "metadata": {},
   "source": [
    "## Is there an area where more pets are found?"
   ]
  },
  {
   "cell_type": "code",
   "execution_count": 3,
   "id": "8398f323",
   "metadata": {},
   "outputs": [
    {
     "name": "stdout",
     "output_type": "stream",
     "text": [
      "The areas where more pets are to be found are given below: \n"
     ]
    },
    {
     "data": {
      "text/plain": [
       "found_location\n",
       "7201 Levander Loop in Austin (TX)     517\n",
       "4434 Frontier Trl in Austin (TX)      163\n",
       "124 W Anderson Ln in Austin (TX)      153\n",
       "12034 Research Blvd in Austin (TX)     98\n",
       "1156 W Cesar Chavez in Austin (TX)     98\n",
       "dtype: int64"
      ]
     },
     "execution_count": 3,
     "metadata": {},
     "output_type": "execute_result"
    }
   ],
   "source": [
    "areas = aac_intakes[aac_intakes.found_location.str.contains(\" in \")]\n",
    "areas = areas.groupby([\"found_location\"])\n",
    "print(\"The areas where more pets are to be found are given below: \")\n",
    "areas.size().sort_values(ascending = False).head(5)"
   ]
  },
  {
   "cell_type": "markdown",
   "id": "c3707c1c",
   "metadata": {},
   "source": [
    "Personal note:: At first I've filtered out all the cities, then grouped them by \"found_location\" and at last sorted out the list by size."
   ]
  },
  {
   "cell_type": "markdown",
   "id": "4e061165",
   "metadata": {},
   "source": [
    "## What is the average number of pets found in a month in the year 2015? Are there months where there is a higher number of animals found?"
   ]
  },
  {
   "cell_type": "code",
   "execution_count": 4,
   "id": "2aa057c5",
   "metadata": {},
   "outputs": [
    {
     "name": "stdout",
     "output_type": "stream",
     "text": [
      "The average mnumber of pets found in a month in the year 2015 is: 1559.33\n"
     ]
    }
   ],
   "source": [
    "date_range = aac_intakes[aac_intakes[\"datetime\"] >= pd.Timestamp(2015,1,1)]\n",
    "date_range = date_range[date_range[\"datetime\"] < pd.Timestamp(2016,1,1)]\n",
    "\n",
    "average_pets_in_month = ((date_range[\"animal_id\"].count())/12).round(2)\n",
    "print(f\"The average mnumber of pets found in a month in the year 2015 is: {average_pets_in_month}\")"
   ]
  },
  {
   "cell_type": "markdown",
   "id": "e94ca553",
   "metadata": {},
   "source": [
    "Personal note:: At first calculated the date range (from 2015-01-01 to 2016-01-01). Then claculated the total number of intakes and divided them by 12 to find the average. "
   ]
  },
  {
   "cell_type": "code",
   "execution_count": 5,
   "id": "c2fc9f08",
   "metadata": {},
   "outputs": [
    {
     "name": "stdout",
     "output_type": "stream",
     "text": [
      "The following graph below shows monthly intakes based on animal ID.\n",
      "As we can see, there are more intakes in months June, May, August, and October.\n"
     ]
    },
    {
     "data": {
      "image/png": "[encoded data removed]",
      "text/plain": [
       "<Figure size 432x288 with 1 Axes>"
      ]
     },
     "metadata": {
      "needs_background": "light"
     },
     "output_type": "display_data"
    }
   ],
   "source": [
    "each_month_intakes = date_range.groupby(pd.Grouper(key=\"datetime\", freq=\"M\")).count().plot(kind=\"bar\", title='Each Month Intakes', y=\"animal_id\")\n",
    "print(\"The following graph below shows monthly intakes based on animal ID.\\nAs we can see, there are more intakes in months June, May, August, and October.\")\n"
   ]
  },
  {
   "cell_type": "markdown",
   "id": "d72c1968",
   "metadata": {},
   "source": [
    "Personal note:: Months with the most intakes are found by the chart"
   ]
  },
  {
   "cell_type": "markdown",
   "id": "19171054",
   "metadata": {},
   "source": [
    "## What is the ratio of incoming pets vs. adopted pets?"
   ]
  },
  {
   "cell_type": "code",
   "execution_count": 6,
   "id": "cd43ef9b",
   "metadata": {},
   "outputs": [
    {
     "name": "stdout",
     "output_type": "stream",
     "text": [
      "The ratio of incoming pets vs. adopted pets is 1.0062\n"
     ]
    }
   ],
   "source": [
    "incoming_pets = aac_intakes[\"animal_id\"].count()\n",
    "adopted_pets = aac_outcomes[\"animal_id\"].count()\n",
    "ratio = (adopted_pets/incoming_pets).round(4)\n",
    "print(f\"The ratio of incoming pets vs. adopted pets is {ratio}\")"
   ]
  },
  {
   "cell_type": "markdown",
   "id": "34a36a6f",
   "metadata": {},
   "source": [
    "Personal note:: Calculated the number of incoming pets and adopted pets. Then got the ratio by dividing the number of adopted pets by the number of incoming pets."
   ]
  },
  {
   "cell_type": "markdown",
   "id": "a143684a",
   "metadata": {},
   "source": [
    "## What is the distribution of the types of animals in the shelter?"
   ]
  },
  {
   "cell_type": "code",
   "execution_count": 7,
   "id": "dc43f081",
   "metadata": {},
   "outputs": [
    {
     "data": {
      "text/plain": [
       "animal_type\n",
       "Bird           342\n",
       "Cat          29659\n",
       "Dog          45743\n",
       "Livestock        9\n",
       "Other         4434\n",
       "dtype: int64"
      ]
     },
     "execution_count": 7,
     "metadata": {},
     "output_type": "execute_result"
    }
   ],
   "source": [
    "distribution_in_numbers = aac_intakes.groupby([\"animal_type\"]).size()\n",
    "distribution_in_numbers"
   ]
  },
  {
   "cell_type": "markdown",
   "id": "e3e1065b",
   "metadata": {},
   "source": [
    "Personal note:: Grouped the animal types together and then printed out the number of each type"
   ]
  },
  {
   "cell_type": "markdown",
   "id": "11ac6ce5",
   "metadata": {},
   "source": [
    "## What are the adoption rates for specific breeds?"
   ]
  },
  {
   "cell_type": "code",
   "execution_count": 8,
   "id": "4b06fd8d",
   "metadata": {},
   "outputs": [
    {
     "name": "stdout",
     "output_type": "stream",
     "text": [
      "breed\n",
      "Pit Bull Mix    3.3153\n",
      "dtype: float64\n",
      "\n",
      "breed\n",
      "Chihuahua Shorthair Mix    2.5247\n",
      "dtype: float64\n",
      "\n",
      "breed\n",
      "Labrador Retriever Mix    2.5148\n",
      "dtype: float64\n",
      "\n",
      "breed\n",
      "German Shepherd Mix    1.0197\n",
      "dtype: float64\n",
      "\n",
      "breed\n",
      "Australian Cattle Dog Mix    0.574\n",
      "dtype: float64\n",
      "\n"
     ]
    }
   ],
   "source": [
    "dogs = aac_intakes[aac_intakes[\"animal_type\"]==\"Dog\"]\n",
    "dog_breed = dogs.groupby([\"breed\"])\n",
    "dog_breed = dog_breed.size().sort_values(ascending = False)\n",
    "\n",
    "total_dogs = dog_breed.count()\n",
    "\n",
    "for i in range(5):\n",
    "    j = i+1\n",
    "    breed = dog_breed[i:j] / total_dogs\n",
    "    print(f'{breed.round(4)}\\n')"
   ]
  },
  {
   "cell_type": "markdown",
   "id": "dc6fc674",
   "metadata": {},
   "source": [
    "Personal note:: The code iterates through a list of animal types, which is a list that contains all possible animal types. The code then filters out any animals that are dogs by using .groupby() to group them by their breed. The code uses .size() to get the size of each group, which is how many animals there are in it. Then it sorts these values so they're ordered from smallest to largest.And calculates the percentage of each breed in the total number of dogs.\n"
   ]
  },
  {
   "cell_type": "markdown",
   "id": "c7435cb3",
   "metadata": {},
   "source": [
    "## What are the adoption rates for different colorings?"
   ]
  },
  {
   "cell_type": "code",
   "execution_count": 9,
   "id": "370e3a02",
   "metadata": {},
   "outputs": [
    {
     "name": "stdout",
     "output_type": "stream",
     "text": [
      "color\n",
      "Black/White    0.104\n",
      "dtype: float64\n",
      "\n",
      "color\n",
      "Black    0.0837\n",
      "dtype: float64\n",
      "\n",
      "color\n",
      "Brown Tabby    0.056\n",
      "dtype: float64\n",
      "\n",
      "color\n",
      "Brown    0.0451\n",
      "dtype: float64\n",
      "\n",
      "color\n",
      "White    0.0355\n",
      "dtype: float64\n",
      "\n"
     ]
    }
   ],
   "source": [
    "color = aac_intakes.groupby([\"color\"])\n",
    "color = color.size().sort_values(ascending = False)\n",
    "\n",
    "total_animals = aac_intakes[\"color\"].count()\n",
    "\n",
    "for i in range(5):\n",
    "    j = i+1\n",
    "    diff_colorings = color[i:j] / total_animals\n",
    "    print(f'{diff_colorings.round(4)}\\n')"
   ]
  },
  {
   "cell_type": "markdown",
   "id": "c9c73b16",
   "metadata": {},
   "source": [
    "Personal note:: The code iterates through a list of colors, which is a list that contains all possible colors. The code then filters out different colors by using .groupby() to group them by their color. The code uses .size() to get the size of each group. And then find the percentage of each color."
   ]
  },
  {
   "cell_type": "markdown",
   "id": "adb61172",
   "metadata": {},
   "source": [
    "## About how many animals are spayed/neutered each month?"
   ]
  },
  {
   "cell_type": "code",
   "execution_count": 10,
   "id": "a201f08b",
   "metadata": {},
   "outputs": [
    {
     "data": {
      "text/plain": [
       "sex_upon_intake\n",
       "Unknown           6813\n",
       "Spayed Female    11231\n",
       "Neutered Male    12794\n",
       "Intact Female    23860\n",
       "Intact Male      25488\n",
       "dtype: int64"
      ]
     },
     "execution_count": 10,
     "metadata": {},
     "output_type": "execute_result"
    }
   ],
   "source": [
    "spayed_or_neutered = aac_intakes.groupby([\"sex_upon_intake\"])\n",
    "spayed_or_neutered.size().sort_values()"
   ]
  },
  {
   "cell_type": "markdown",
   "id": "e7ede74a",
   "metadata": {},
   "source": [
    "Personal notes:: printed out the number of animals that are spayed or neutered or intact or unknown."
   ]
  },
  {
   "cell_type": "code",
   "execution_count": 11,
   "id": "c116b462",
   "metadata": {},
   "outputs": [
    {
     "name": "stdout",
     "output_type": "stream",
     "text": [
      "Approximately 358.5821 animals are apayed/neutered each month. \n"
     ]
    }
   ],
   "source": [
    "total = aac_intakes.loc[aac_intakes['sex_upon_intake'] == 'Neutered Male'].count() + aac_intakes.loc[aac_intakes['sex_upon_intake'] == 'Spayed Female'].count()\n",
    "total_spayed_or_neutered = total['animal_id']\n",
    "\n",
    "the_first = aac_intakes['datetime'].min()\n",
    "the_last = aac_intakes['datetime'].max()\n",
    "total_months = (the_last.year - the_first.year)*12 + the_first.month - the_last.month\n",
    "\n",
    "number = total_spayed_or_neutered / total_months\n",
    "print(f\"Approximately {number.round(4)} animals are apayed/neutered each month. \")"
   ]
  },
  {
   "cell_type": "markdown",
   "id": "684ff939",
   "metadata": {},
   "source": [
    "Personal note:: Found out the total number of spayed or neutered animals and then calculated the total number of months. And then calculated the approximate number of animal that were spayed or neutered each month by dividing the total number of spayed or neutered animals by the number of total months."
   ]
  }
 ],
 "metadata": {
  "kernelspec": {
   "display_name": "Python 3 (ipykernel)",
   "language": "python",
   "name": "python3"
  },
  "language_info": {
   "codemirror_mode": {
    "name": "ipython",
    "version": 3
   },
   "file_extension": ".py",
   "mimetype": "text/x-python",
   "name": "python",
   "nbconvert_exporter": "python",
   "pygments_lexer": "ipython3",
   "version": "3.9.12"
  }
 },
 "nbformat": 4,
 "nbformat_minor": 5
}
